{
 "cells": [
  {
   "cell_type": "markdown",
   "metadata": {},
   "source": [
    "## Flujos de Control"
   ]
  },
  {
   "cell_type": "markdown",
   "metadata": {},
   "source": [
    "1) Crear una variable que contenga un elemento del conjunto de números enteros y luego imprimir por pantalla si es mayor o menor a cero"
   ]
  },
  {
   "cell_type": "code",
   "execution_count": 4,
   "metadata": {},
   "outputs": [
    {
     "name": "stdout",
     "output_type": "stream",
     "text": [
      "La varaible es mayor a cero\n"
     ]
    }
   ],
   "source": [
    "a = 10\n",
    "if (a < 0):\n",
    "    print('La variable es menor a cero')\n",
    "elif (a > 0): \n",
    "    print('La varaible es mayor a cero')\n",
    "else:\n",
    "    print('La variable es igual a cero')"
   ]
  },
  {
   "cell_type": "markdown",
   "metadata": {},
   "source": [
    "2) Crear dos variables y un condicional que informe si son del mismo tipo de dato"
   ]
  },
  {
   "cell_type": "code",
   "execution_count": 5,
   "metadata": {},
   "outputs": [
    {
     "name": "stdout",
     "output_type": "stream",
     "text": [
      "Las variables son de tipos de dato diferentes\n"
     ]
    }
   ],
   "source": [
    "a = 2\n",
    "b = 'hola'\n",
    "if (type(a) == type(b)):\n",
    "    print('Las variables son del mismo tipo de dato')\n",
    "else:\n",
    "    print('Las variables son de tipos de dato diferentes')"
   ]
  },
  {
   "cell_type": "markdown",
   "metadata": {},
   "source": [
    "3) Para los valores enteros del 1 al 20, imprimir por pantalla si es par o impar"
   ]
  },
  {
   "cell_type": "code",
   "execution_count": 7,
   "metadata": {},
   "outputs": [
    {
     "name": "stdout",
     "output_type": "stream",
     "text": [
      "El número  1  es impar\n",
      "El número  2  es par\n",
      "El número  3  es impar\n",
      "El número  4  es par\n",
      "El número  5  es impar\n",
      "El número  6  es par\n",
      "El número  7  es impar\n",
      "El número  8  es par\n",
      "El número  9  es impar\n",
      "El número  10  es par\n",
      "El número  11  es impar\n",
      "El número  12  es par\n",
      "El número  13  es impar\n",
      "El número  14  es par\n",
      "El número  15  es impar\n",
      "El número  16  es par\n",
      "El número  17  es impar\n",
      "El número  18  es par\n",
      "El número  19  es impar\n",
      "El número  20  es par\n"
     ]
    }
   ],
   "source": [
    "for i in range(1, 21):\n",
    "    if i % 2 == 0:\n",
    "        print('El número ', str(i), ' es par')\n",
    "    else:\n",
    "        print('El número ', str(i), ' es impar')"
   ]
  },
  {
   "cell_type": "markdown",
   "metadata": {},
   "source": [
    "4) En un ciclo for mostrar para los valores entre 0 y 5 el resultado de elevarlo a la potencia igual a 3"
   ]
  },
  {
   "cell_type": "code",
   "execution_count": 9,
   "metadata": {},
   "outputs": [
    {
     "name": "stdout",
     "output_type": "stream",
     "text": [
      "Valor: 0  Elevado a la 3ra potencia: 0\n",
      "Valor: 1  Elevado a la 3ra potencia: 1\n",
      "Valor: 2  Elevado a la 3ra potencia: 8\n",
      "Valor: 3  Elevado a la 3ra potencia: 27\n",
      "Valor: 4  Elevado a la 3ra potencia: 64\n",
      "Valor: 5  Elevado a la 3ra potencia: 125\n"
     ]
    }
   ],
   "source": [
    "for i in range(0, 6):\n",
    "    print('Valor:', str(i), ' Elevado a la 3ra potencia:', str(i**3))"
   ]
  },
  {
   "cell_type": "markdown",
   "metadata": {},
   "source": [
    "5) Crear una variable que contenga un número entero y realizar un ciclo for la misma cantidad de ciclos"
   ]
  },
  {
   "cell_type": "code",
   "execution_count": 1,
   "metadata": {},
   "outputs": [
    {
     "name": "stdout",
     "output_type": "stream",
     "text": [
      "-20\n",
      "-19\n",
      "-18\n",
      "-17\n",
      "-16\n",
      "-15\n",
      "-14\n",
      "-13\n",
      "-12\n",
      "-11\n",
      "-10\n",
      "-9\n",
      "-8\n",
      "-7\n",
      "-6\n"
     ]
    }
   ],
   "source": [
    "n=-5\n",
    "for i in range (-20,n):\n",
    "    pass\n",
    "    print(i)"
   ]
  },
  {
   "cell_type": "markdown",
   "metadata": {},
   "source": [
    "6) Utilizar un ciclo while para realizar el factorial de un número guardado en una variable, sólo si la variable contiene un número entero mayor a 0"
   ]
  },
  {
   "cell_type": "code",
   "execution_count": 18,
   "metadata": {},
   "outputs": [
    {
     "name": "stdout",
     "output_type": "stream",
     "text": [
      "es un número entero\n",
      "es mayor a 0\n",
      "el factorial es : 24\n"
     ]
    }
   ],
   "source": [
    "cantidad_de_ciclos = 0\n",
    "nro = 4\n",
    "factorial = nro\n",
    "if (type(nro) == int):\n",
    "    print(\"es un número entero\")\n",
    "    if(nro > 0):\n",
    "        cantidad_de_ciclos\n",
    "        print(\"es mayor a 0\")\n",
    "        while (nro > 1):\n",
    "            nro = nro - 1\n",
    "            factorial = factorial * nro\n",
    "        print(\"el factorial es :\", str(factorial))\n",
    "\n",
    "    else:\n",
    "        print(\"no es mayor a 0\")  \n",
    "else:\n",
    "    print(\"no es un número entero\")   \n",
    "        "
   ]
  },
  {
   "cell_type": "markdown",
   "metadata": {},
   "source": [
    "#hola"
   ]
  },
  {
   "cell_type": "markdown",
   "metadata": {},
   "source": []
  },
  {
   "cell_type": "markdown",
   "metadata": {},
   "source": []
  },
  {
   "cell_type": "code",
   "execution_count": 14,
   "metadata": {},
   "outputs": [
    {
     "name": "stdout",
     "output_type": "stream",
     "text": [
      "es un numero entero\n",
      "es mayor a 0\n",
      "el factorial es : 120\n"
     ]
    }
   ],
   "source": [
    "n = 5\n",
    "factorial = n\n",
    "if (type(n) == int):\n",
    "    print(\"es un numero entero\")\n",
    "    if( n > 0):\n",
    "        print(\"es mayor a 0\")\n",
    "        while n > 2:\n",
    "            n = n - 1\n",
    "            factorial = factorial * n\n",
    "        print(\"el factorial es :\", factorial)\n",
    "    else:\n",
    "        print(\"no es mayor a 0\")    \n",
    "else:\n",
    "    print(\"no es un numero entero\")        \n",
    "    \n"
   ]
  },
  {
   "cell_type": "markdown",
   "metadata": {},
   "source": [
    "7) Crear un ciclo for dentro de un ciclo while"
   ]
  },
  {
   "cell_type": "code",
   "execution_count": null,
   "metadata": {},
   "outputs": [],
   "source": []
  },
  {
   "cell_type": "code",
   "execution_count": 22,
   "metadata": {},
   "outputs": [
    {
     "name": "stdout",
     "output_type": "stream",
     "text": [
      "ciclo for 1\n",
      "ciclo while 2\n",
      "ciclo for 1\n",
      "ciclo while 3\n",
      "ciclo for 2\n",
      "ciclo while 3\n",
      "ciclo for 1\n",
      "ciclo while 4\n",
      "ciclo for 2\n",
      "ciclo while 4\n",
      "ciclo for 3\n",
      "ciclo while 4\n",
      "ciclo for 1\n",
      "ciclo while 5\n",
      "ciclo for 2\n",
      "ciclo while 5\n",
      "ciclo for 3\n",
      "ciclo while 5\n",
      "ciclo for 4\n",
      "ciclo while 5\n"
     ]
    }
   ],
   "source": [
    "n = 1\n",
    "while (n < 5):\n",
    "    n = n +1 \n",
    "    for i in range (1,n):\n",
    "        print(\"ciclo for\", str(i))\n",
    "        print(\"ciclo while\", str(n))"
   ]
  },
  {
   "cell_type": "code",
   "execution_count": 7,
   "metadata": {},
   "outputs": [
    {
     "name": "stdout",
     "output_type": "stream",
     "text": [
      "1\n",
      "2\n",
      "1\n",
      "2\n",
      "3\n",
      "1\n",
      "2\n",
      "3\n",
      "4\n"
     ]
    }
   ],
   "source": [
    "n = 2\n",
    "while n < 5:\n",
    "    n = n +1\n",
    "    for i in range (1,n):\n",
    "        print(i)"
   ]
  },
  {
   "cell_type": "markdown",
   "metadata": {},
   "source": [
    "8) Crear un ciclo while dentro de un ciclo for"
   ]
  },
  {
   "cell_type": "code",
   "execution_count": 23,
   "metadata": {},
   "outputs": [
    {
     "name": "stdout",
     "output_type": "stream",
     "text": [
      "1 ciclo for\n",
      "1  ciclo while\n",
      "2 ciclo for\n",
      "1  ciclo while\n",
      "3 ciclo for\n",
      "1  ciclo while\n",
      "4 ciclo for\n",
      "1  ciclo while\n"
     ]
    }
   ],
   "source": [
    "n = 5\n",
    "for i in range (1,n):\n",
    "    while (n > 1):\n",
    "        n -= 1 \n",
    "    print(str(i), \"ciclo for\")\n",
    "    print(str(n), \" ciclo while\")"
   ]
  },
  {
   "cell_type": "markdown",
   "metadata": {},
   "source": [
    "9) Imprimir los números primos existentes entre 0 y 30"
   ]
  },
  {
   "cell_type": "code",
   "execution_count": 32,
   "metadata": {},
   "outputs": [
    {
     "name": "stdout",
     "output_type": "stream",
     "text": [
      "0 es primo\n",
      "1 es primo\n",
      "2 es primo\n",
      "3 es primo\n",
      "5 es primo\n",
      "7 es primo\n",
      "11 es primo\n",
      "13 es primo\n",
      "17 es primo\n",
      "19 es primo\n",
      "23 es primo\n",
      "29 es primo\n"
     ]
    }
   ],
   "source": [
    "Número = input (\"introduzca el número primo a buscar\")\n",
    "for nro in range (0,31):\n",
    "    primo = True\n",
    "    for i in range (2,nro):\n",
    "        if(nro % i == 0):\n",
    "            primo = False\n",
    "            break\n",
    "    if(primo == True):\n",
    "        print (str(nro), \"es primo\")        "
   ]
  },
  {
   "cell_type": "code",
   "execution_count": 137,
   "metadata": {},
   "outputs": [
    {
     "name": "stdout",
     "output_type": "stream",
     "text": [
      "0 es primo\n",
      "1 es primo\n",
      "2 es primo\n",
      "3 es primo\n",
      "5 es primo\n",
      "7 es primo\n",
      "11 es primo\n",
      "13 es primo\n",
      "17 es primo\n",
      "19 es primo\n",
      "23 es primo\n",
      "29 es primo\n",
      "31 es primo\n"
     ]
    }
   ],
   "source": [
    "for nro in range (0,35):\n",
    "    es_primo = True\n",
    "    for i in range (2,nro):\n",
    "        if (nro % i == 0):\n",
    "            es_primo = False\n",
    "            break\n",
    "    if (es_primo == True):\n",
    "        print(str(nro), \"es primo\")    "
   ]
  },
  {
   "cell_type": "code",
   "execution_count": 86,
   "metadata": {},
   "outputs": [
    {
     "name": "stdout",
     "output_type": "stream",
     "text": [
      "0 es primo\n",
      "1 es primo\n",
      "2 es primo\n",
      "3 es primo\n",
      "5 es primo\n",
      "7 es primo\n",
      "11 es primo\n",
      "13 es primo\n",
      "17 es primo\n",
      "19 es primo\n",
      "23 es primo\n",
      "29 es primo\n"
     ]
    }
   ],
   "source": [
    "for nro in range (0,31):\n",
    "    es_primo = True\n",
    "    for i in range (2,nro):\n",
    "        if(nro % i == 0):\n",
    "            es_primo = False\n",
    "    if (es_primo):\n",
    "        print(str(nro),\"es primo\")       \n",
    "  "
   ]
  },
  {
   "cell_type": "code",
   "execution_count": 119,
   "metadata": {},
   "outputs": [
    {
     "name": "stdout",
     "output_type": "stream",
     "text": [
      "0 es primo\n",
      "1 es primo\n",
      "2 es primo\n",
      "3 es primo\n",
      "4 es primo\n",
      "5 es primo\n",
      "6 es primo\n",
      "7 es primo\n",
      "8 es primo\n",
      "9 es primo\n",
      "10 es primo\n",
      "11 es primo\n",
      "12 es primo\n",
      "13 es primo\n",
      "14 es primo\n",
      "15 es primo\n",
      "16 es primo\n",
      "17 es primo\n",
      "18 es primo\n",
      "19 es primo\n",
      "20 es primo\n",
      "21 es primo\n",
      "22 es primo\n",
      "23 es primo\n",
      "24 es primo\n",
      "25 es primo\n",
      "26 es primo\n",
      "27 es primo\n",
      "28 es primo\n",
      "29 es primo\n",
      "30 es primo\n"
     ]
    }
   ],
   "source": [
    "for i in range (0,31):\n",
    "    es_primo = True\n",
    "    if (i% 2 == 0):\n",
    "        es_primo = False\n",
    "\n",
    "    print(str(i),\"es primo\")"
   ]
  },
  {
   "cell_type": "markdown",
   "metadata": {},
   "source": [
    "10) ¿Se puede mejorar el proceso del punto 9? Utilizar las sentencias break y/ó continue para tal fin"
   ]
  },
  {
   "cell_type": "code",
   "execution_count": 128,
   "metadata": {},
   "outputs": [
    {
     "name": "stdout",
     "output_type": "stream",
     "text": [
      "0 es primo\n",
      "1 es primo\n",
      "2 es primo\n",
      "3 es primo\n",
      "5 es primo\n",
      "7 es primo\n",
      "11 es primo\n",
      "13 es primo\n",
      "17 es primo\n",
      "19 es primo\n",
      "23 es primo\n",
      "29 es primo\n"
     ]
    }
   ],
   "source": [
    "cantidad_ciclos = 0\n",
    "for nro in range (0,31):\n",
    "    es_primo = True\n",
    "    for i in range (2,nro):\n",
    "        cantidad_ciclos += 1\n",
    "        if(nro % i == 0 ):\n",
    "            es_primo = False\n",
    "            break\n",
    "    if (es_primo):\n",
    "        print(str(nro),\"es primo\")  "
   ]
  },
  {
   "cell_type": "code",
   "execution_count": 123,
   "metadata": {},
   "outputs": [
    {
     "name": "stdout",
     "output_type": "stream",
     "text": [
      "0 es primo\n",
      "1 es primo\n",
      "2 es primo\n",
      "3 es primo\n",
      "5 es primo\n",
      "7 es primo\n",
      "11 es primo\n",
      "13 es primo\n",
      "17 es primo\n",
      "19 es primo\n",
      "23 es primo\n",
      "29 es primo\n"
     ]
    }
   ],
   "source": [
    "cantidad_ciclos = 0\n",
    "for nro in range (0,31):\n",
    "    es_primo = True\n",
    "    for i in range (2,nro):\n",
    "        cantidad_ciclos += 1\n",
    "        if(nro % i == 0):\n",
    "            es_primo = False\n",
    "            break\n",
    "    if (es_primo):\n",
    "        print(str(nro),\"es primo\")  "
   ]
  },
  {
   "cell_type": "markdown",
   "metadata": {},
   "source": [
    "11) En los puntos 9 y 10, se diseño un código que encuentra números primos y además se lo optimizó. ¿Es posible saber en qué medida se optimizó?"
   ]
  },
  {
   "cell_type": "code",
   "execution_count": 113,
   "metadata": {},
   "outputs": [
    {
     "name": "stdout",
     "output_type": "stream",
     "text": [
      "135\n",
      "3.0074074074074075\n",
      "4.281553398058253\n"
     ]
    }
   ],
   "source": [
    "\n",
    "print (cantidad_ciclos)\n",
    "print(406 / 135 )\n",
    "print(4851 / 1133) \n"
   ]
  },
  {
   "cell_type": "code",
   "execution_count": 57,
   "metadata": {},
   "outputs": [
    {
     "name": "stdout",
     "output_type": "stream",
     "text": [
      "0\n",
      "1\n",
      "2\n",
      "3\n",
      "5\n",
      "7\n",
      "11\n",
      "13\n",
      "17\n",
      "19\n",
      "23\n",
      "29\n",
      "Cantidad de ciclos: 134\n",
      "Se optimizó a un 0.3544973544973545% de ciclos aplicando break\n"
     ]
    }
   ],
   "source": [
    "ciclos_con_break = 0\n",
    "n = 0\n",
    "primo = True\n",
    "while (n < tope_rango):\n",
    "    for div in range(2, n):\n",
    "        ciclos_con_break += 1\n",
    "        if (n % div == 0):\n",
    "            primo = False\n",
    "            break\n",
    "    if (primo):\n",
    "        print(n)\n",
    "    else:\n",
    "        primo = True\n",
    "    n += 1\n",
    "print('Cantidad de ciclos: ' + str(ciclos_con_break))\n",
    "print('Se optimizó a un ' + str(ciclos_con_break/ciclos_sin_break) + '% de ciclos aplicando break')"
   ]
  },
  {
   "cell_type": "markdown",
   "metadata": {},
   "source": [
    "12) Si la cantidad de números que se evalúa es mayor a treinta, esa optimización crece?"
   ]
  },
  {
   "cell_type": "code",
   "execution_count": 58,
   "metadata": {},
   "outputs": [
    {
     "name": "stdout",
     "output_type": "stream",
     "text": [
      "0\n",
      "1\n",
      "2\n",
      "3\n",
      "5\n",
      "7\n",
      "11\n",
      "13\n",
      "17\n",
      "19\n",
      "23\n",
      "29\n",
      "31\n",
      "37\n",
      "41\n",
      "43\n",
      "47\n",
      "53\n",
      "59\n",
      "61\n",
      "67\n",
      "71\n",
      "73\n",
      "79\n",
      "83\n",
      "89\n",
      "97\n",
      "Cantidad de ciclos: 4753\n"
     ]
    }
   ],
   "source": [
    "tope_rango=100\n",
    "ciclos_sin_break = 0\n",
    "n = 0\n",
    "primo = True\n",
    "while (n < tope_rango):\n",
    "    for div in range(2, n):\n",
    "        ciclos_sin_break += 1\n",
    "        if (n % div == 0):\n",
    "            primo = False\n",
    "    if (primo):\n",
    "        print(n)\n",
    "    else:\n",
    "        primo = True\n",
    "    n += 1\n",
    "print('Cantidad de ciclos: ' + str(ciclos_sin_break))"
   ]
  },
  {
   "cell_type": "code",
   "execution_count": 59,
   "metadata": {},
   "outputs": [
    {
     "name": "stdout",
     "output_type": "stream",
     "text": [
      "0\n",
      "1\n",
      "2\n",
      "3\n",
      "5\n",
      "7\n",
      "11\n",
      "13\n",
      "17\n",
      "19\n",
      "23\n",
      "29\n",
      "31\n",
      "37\n",
      "41\n",
      "43\n",
      "47\n",
      "53\n",
      "59\n",
      "61\n",
      "67\n",
      "71\n",
      "73\n",
      "79\n",
      "83\n",
      "89\n",
      "97\n",
      "Cantidad de ciclos: 1132\n",
      "Se optimizó a un 0.2381653692404797% de ciclos aplicando break\n"
     ]
    }
   ],
   "source": [
    "ciclos_con_break = 0\n",
    "n = 0\n",
    "primo = True\n",
    "while (n < tope_rango):\n",
    "    for div in range(2, n):\n",
    "        ciclos_con_break += 1\n",
    "        if (n % div == 0):\n",
    "            primo = False\n",
    "            break\n",
    "    if (primo):\n",
    "        print(n)\n",
    "    else:\n",
    "        primo = True\n",
    "    n += 1\n",
    "print('Cantidad de ciclos: ' + str(ciclos_con_break))\n",
    "print('Se optimizó a un ' + str(ciclos_con_break/ciclos_sin_break) + '% de ciclos aplicando break')"
   ]
  },
  {
   "cell_type": "markdown",
   "metadata": {},
   "source": [
    "13) Aplicando continue, armar un ciclo while que solo imprima los valores divisibles por 12, dentro del rango de números de 100 a 300"
   ]
  },
  {
   "cell_type": "code",
   "execution_count": 30,
   "metadata": {},
   "outputs": [
    {
     "name": "stdout",
     "output_type": "stream",
     "text": [
      "300 es divisible por 12\n",
      "288 es divisible por 12\n",
      "276 es divisible por 12\n",
      "264 es divisible por 12\n",
      "252 es divisible por 12\n",
      "240 es divisible por 12\n",
      "228 es divisible por 12\n",
      "216 es divisible por 12\n",
      "204 es divisible por 12\n",
      "192 es divisible por 12\n",
      "180 es divisible por 12\n",
      "168 es divisible por 12\n",
      "156 es divisible por 12\n",
      "144 es divisible por 12\n",
      "132 es divisible por 12\n",
      "120 es divisible por 12\n",
      "108 es divisible por 12\n"
     ]
    }
   ],
   "source": [
    "tope = 301\n",
    "while (100<tope):\n",
    "    tope = tope -1\n",
    "    if (tope % 12 != 0):\n",
    "        continue\n",
    "    print (str(tope), \"es divisible por 12\")\n",
    "        "
   ]
  },
  {
   "cell_type": "code",
   "execution_count": 25,
   "metadata": {},
   "outputs": [
    {
     "name": "stdout",
     "output_type": "stream",
     "text": [
      "300 es divisible por 12\n",
      "288 es divisible por 12\n",
      "276 es divisible por 12\n",
      "264 es divisible por 12\n",
      "252 es divisible por 12\n",
      "240 es divisible por 12\n",
      "228 es divisible por 12\n",
      "216 es divisible por 12\n",
      "204 es divisible por 12\n",
      "192 es divisible por 12\n",
      "180 es divisible por 12\n",
      "168 es divisible por 12\n",
      "156 es divisible por 12\n",
      "144 es divisible por 12\n",
      "132 es divisible por 12\n",
      "120 es divisible por 12\n",
      "108 es divisible por 12\n"
     ]
    }
   ],
   "source": [
    "n = 301\n",
    "while (n > 99):\n",
    "    n = n-1\n",
    "    if (n % 12!=0):\n",
    "        continue\n",
    "    print(str(n), \"es divisible por 12\")  "
   ]
  },
  {
   "cell_type": "code",
   "execution_count": 27,
   "metadata": {},
   "outputs": [
    {
     "name": "stdout",
     "output_type": "stream",
     "text": [
      "101 es divisible por 3 y múltriplo de 6\n",
      "102 es divisible por 3 y múltriplo de 6\n",
      "103 es divisible por 3 y múltriplo de 6\n",
      "104 es divisible por 3 y múltriplo de 6\n",
      "105 es divisible por 3 y múltriplo de 6\n",
      "106 es divisible por 3 y múltriplo de 6\n",
      "107 es divisible por 3 y múltriplo de 6\n",
      "108 es divisible por 3 y múltriplo de 6\n",
      "109 es divisible por 3 y múltriplo de 6\n",
      "110 es divisible por 3 y múltriplo de 6\n",
      "111 es divisible por 3 y múltriplo de 6\n",
      "112 es divisible por 3 y múltriplo de 6\n",
      "113 es divisible por 3 y múltriplo de 6\n",
      "114 es divisible por 3 y múltriplo de 6\n",
      "115 es divisible por 3 y múltriplo de 6\n",
      "116 es divisible por 3 y múltriplo de 6\n",
      "117 es divisible por 3 y múltriplo de 6\n",
      "118 es divisible por 3 y múltriplo de 6\n",
      "119 es divisible por 3 y múltriplo de 6\n",
      "120 es divisible por 3 y múltriplo de 6\n",
      "121 es divisible por 3 y múltriplo de 6\n",
      "122 es divisible por 3 y múltriplo de 6\n",
      "123 es divisible por 3 y múltriplo de 6\n",
      "124 es divisible por 3 y múltriplo de 6\n",
      "125 es divisible por 3 y múltriplo de 6\n",
      "126 es divisible por 3 y múltriplo de 6\n",
      "127 es divisible por 3 y múltriplo de 6\n",
      "128 es divisible por 3 y múltriplo de 6\n",
      "129 es divisible por 3 y múltriplo de 6\n",
      "130 es divisible por 3 y múltriplo de 6\n",
      "131 es divisible por 3 y múltriplo de 6\n",
      "132 es divisible por 3 y múltriplo de 6\n",
      "133 es divisible por 3 y múltriplo de 6\n",
      "134 es divisible por 3 y múltriplo de 6\n",
      "135 es divisible por 3 y múltriplo de 6\n",
      "136 es divisible por 3 y múltriplo de 6\n",
      "137 es divisible por 3 y múltriplo de 6\n",
      "138 es divisible por 3 y múltriplo de 6\n",
      "139 es divisible por 3 y múltriplo de 6\n",
      "140 es divisible por 3 y múltriplo de 6\n",
      "141 es divisible por 3 y múltriplo de 6\n",
      "142 es divisible por 3 y múltriplo de 6\n",
      "143 es divisible por 3 y múltriplo de 6\n",
      "144 es divisible por 3 y múltriplo de 6\n",
      "145 es divisible por 3 y múltriplo de 6\n",
      "146 es divisible por 3 y múltriplo de 6\n",
      "147 es divisible por 3 y múltriplo de 6\n",
      "148 es divisible por 3 y múltriplo de 6\n",
      "149 es divisible por 3 y múltriplo de 6\n",
      "150 es divisible por 3 y múltriplo de 6\n",
      "151 es divisible por 3 y múltriplo de 6\n",
      "152 es divisible por 3 y múltriplo de 6\n",
      "153 es divisible por 3 y múltriplo de 6\n",
      "154 es divisible por 3 y múltriplo de 6\n",
      "155 es divisible por 3 y múltriplo de 6\n",
      "156 es divisible por 3 y múltriplo de 6\n",
      "157 es divisible por 3 y múltriplo de 6\n",
      "158 es divisible por 3 y múltriplo de 6\n",
      "159 es divisible por 3 y múltriplo de 6\n",
      "160 es divisible por 3 y múltriplo de 6\n",
      "161 es divisible por 3 y múltriplo de 6\n",
      "162 es divisible por 3 y múltriplo de 6\n",
      "163 es divisible por 3 y múltriplo de 6\n",
      "164 es divisible por 3 y múltriplo de 6\n",
      "165 es divisible por 3 y múltriplo de 6\n",
      "166 es divisible por 3 y múltriplo de 6\n",
      "167 es divisible por 3 y múltriplo de 6\n",
      "168 es divisible por 3 y múltriplo de 6\n",
      "169 es divisible por 3 y múltriplo de 6\n",
      "170 es divisible por 3 y múltriplo de 6\n",
      "171 es divisible por 3 y múltriplo de 6\n",
      "172 es divisible por 3 y múltriplo de 6\n",
      "173 es divisible por 3 y múltriplo de 6\n",
      "174 es divisible por 3 y múltriplo de 6\n",
      "175 es divisible por 3 y múltriplo de 6\n",
      "176 es divisible por 3 y múltriplo de 6\n",
      "177 es divisible por 3 y múltriplo de 6\n",
      "178 es divisible por 3 y múltriplo de 6\n",
      "179 es divisible por 3 y múltriplo de 6\n",
      "180 es divisible por 3 y múltriplo de 6\n",
      "181 es divisible por 3 y múltriplo de 6\n",
      "182 es divisible por 3 y múltriplo de 6\n",
      "183 es divisible por 3 y múltriplo de 6\n",
      "184 es divisible por 3 y múltriplo de 6\n",
      "185 es divisible por 3 y múltriplo de 6\n",
      "186 es divisible por 3 y múltriplo de 6\n",
      "187 es divisible por 3 y múltriplo de 6\n",
      "188 es divisible por 3 y múltriplo de 6\n",
      "189 es divisible por 3 y múltriplo de 6\n",
      "190 es divisible por 3 y múltriplo de 6\n",
      "191 es divisible por 3 y múltriplo de 6\n",
      "192 es divisible por 3 y múltriplo de 6\n",
      "193 es divisible por 3 y múltriplo de 6\n",
      "194 es divisible por 3 y múltriplo de 6\n",
      "195 es divisible por 3 y múltriplo de 6\n",
      "196 es divisible por 3 y múltriplo de 6\n",
      "197 es divisible por 3 y múltriplo de 6\n",
      "198 es divisible por 3 y múltriplo de 6\n",
      "199 es divisible por 3 y múltriplo de 6\n",
      "200 es divisible por 3 y múltriplo de 6\n",
      "201 es divisible por 3 y múltriplo de 6\n",
      "202 es divisible por 3 y múltriplo de 6\n",
      "203 es divisible por 3 y múltriplo de 6\n",
      "204 es divisible por 3 y múltriplo de 6\n",
      "205 es divisible por 3 y múltriplo de 6\n",
      "206 es divisible por 3 y múltriplo de 6\n",
      "207 es divisible por 3 y múltriplo de 6\n",
      "208 es divisible por 3 y múltriplo de 6\n",
      "209 es divisible por 3 y múltriplo de 6\n",
      "210 es divisible por 3 y múltriplo de 6\n",
      "211 es divisible por 3 y múltriplo de 6\n",
      "212 es divisible por 3 y múltriplo de 6\n",
      "213 es divisible por 3 y múltriplo de 6\n",
      "214 es divisible por 3 y múltriplo de 6\n",
      "215 es divisible por 3 y múltriplo de 6\n",
      "216 es divisible por 3 y múltriplo de 6\n",
      "217 es divisible por 3 y múltriplo de 6\n",
      "218 es divisible por 3 y múltriplo de 6\n",
      "219 es divisible por 3 y múltriplo de 6\n",
      "220 es divisible por 3 y múltriplo de 6\n",
      "221 es divisible por 3 y múltriplo de 6\n",
      "222 es divisible por 3 y múltriplo de 6\n",
      "223 es divisible por 3 y múltriplo de 6\n",
      "224 es divisible por 3 y múltriplo de 6\n",
      "225 es divisible por 3 y múltriplo de 6\n",
      "226 es divisible por 3 y múltriplo de 6\n",
      "227 es divisible por 3 y múltriplo de 6\n",
      "228 es divisible por 3 y múltriplo de 6\n",
      "229 es divisible por 3 y múltriplo de 6\n",
      "230 es divisible por 3 y múltriplo de 6\n",
      "231 es divisible por 3 y múltriplo de 6\n",
      "232 es divisible por 3 y múltriplo de 6\n",
      "233 es divisible por 3 y múltriplo de 6\n",
      "234 es divisible por 3 y múltriplo de 6\n",
      "235 es divisible por 3 y múltriplo de 6\n",
      "236 es divisible por 3 y múltriplo de 6\n",
      "237 es divisible por 3 y múltriplo de 6\n",
      "238 es divisible por 3 y múltriplo de 6\n",
      "239 es divisible por 3 y múltriplo de 6\n",
      "240 es divisible por 3 y múltriplo de 6\n",
      "241 es divisible por 3 y múltriplo de 6\n",
      "242 es divisible por 3 y múltriplo de 6\n",
      "243 es divisible por 3 y múltriplo de 6\n",
      "244 es divisible por 3 y múltriplo de 6\n",
      "245 es divisible por 3 y múltriplo de 6\n",
      "246 es divisible por 3 y múltriplo de 6\n",
      "247 es divisible por 3 y múltriplo de 6\n",
      "248 es divisible por 3 y múltriplo de 6\n",
      "249 es divisible por 3 y múltriplo de 6\n",
      "250 es divisible por 3 y múltriplo de 6\n",
      "251 es divisible por 3 y múltriplo de 6\n",
      "252 es divisible por 3 y múltriplo de 6\n",
      "253 es divisible por 3 y múltriplo de 6\n",
      "254 es divisible por 3 y múltriplo de 6\n",
      "255 es divisible por 3 y múltriplo de 6\n",
      "256 es divisible por 3 y múltriplo de 6\n",
      "257 es divisible por 3 y múltriplo de 6\n",
      "258 es divisible por 3 y múltriplo de 6\n",
      "259 es divisible por 3 y múltriplo de 6\n",
      "260 es divisible por 3 y múltriplo de 6\n",
      "261 es divisible por 3 y múltriplo de 6\n",
      "262 es divisible por 3 y múltriplo de 6\n",
      "263 es divisible por 3 y múltriplo de 6\n",
      "264 es divisible por 3 y múltriplo de 6\n",
      "265 es divisible por 3 y múltriplo de 6\n",
      "266 es divisible por 3 y múltriplo de 6\n",
      "267 es divisible por 3 y múltriplo de 6\n",
      "268 es divisible por 3 y múltriplo de 6\n",
      "269 es divisible por 3 y múltriplo de 6\n",
      "270 es divisible por 3 y múltriplo de 6\n",
      "271 es divisible por 3 y múltriplo de 6\n",
      "272 es divisible por 3 y múltriplo de 6\n",
      "273 es divisible por 3 y múltriplo de 6\n",
      "274 es divisible por 3 y múltriplo de 6\n",
      "275 es divisible por 3 y múltriplo de 6\n",
      "276 es divisible por 3 y múltriplo de 6\n",
      "277 es divisible por 3 y múltriplo de 6\n",
      "278 es divisible por 3 y múltriplo de 6\n",
      "279 es divisible por 3 y múltriplo de 6\n",
      "280 es divisible por 3 y múltriplo de 6\n",
      "281 es divisible por 3 y múltriplo de 6\n",
      "282 es divisible por 3 y múltriplo de 6\n",
      "283 es divisible por 3 y múltriplo de 6\n",
      "284 es divisible por 3 y múltriplo de 6\n",
      "285 es divisible por 3 y múltriplo de 6\n",
      "286 es divisible por 3 y múltriplo de 6\n",
      "287 es divisible por 3 y múltriplo de 6\n",
      "288 es divisible por 3 y múltriplo de 6\n",
      "289 es divisible por 3 y múltriplo de 6\n",
      "290 es divisible por 3 y múltriplo de 6\n",
      "291 es divisible por 3 y múltriplo de 6\n",
      "292 es divisible por 3 y múltriplo de 6\n",
      "293 es divisible por 3 y múltriplo de 6\n",
      "294 es divisible por 3 y múltriplo de 6\n",
      "295 es divisible por 3 y múltriplo de 6\n",
      "296 es divisible por 3 y múltriplo de 6\n",
      "297 es divisible por 3 y múltriplo de 6\n",
      "298 es divisible por 3 y múltriplo de 6\n",
      "299 es divisible por 3 y múltriplo de 6\n",
      "300 es divisible por 3 y múltriplo de 6\n",
      "301 es divisible por 3 y múltriplo de 6\n"
     ]
    }
   ],
   "source": []
  },
  {
   "cell_type": "code",
   "execution_count": 62,
   "metadata": {},
   "outputs": [
    {
     "name": "stdout",
     "output_type": "stream",
     "text": [
      "108  es divisible por 12\n",
      "120  es divisible por 12\n",
      "132  es divisible por 12\n",
      "144  es divisible por 12\n",
      "156  es divisible por 12\n",
      "168  es divisible por 12\n",
      "180  es divisible por 12\n",
      "192  es divisible por 12\n",
      "204  es divisible por 12\n",
      "216  es divisible por 12\n",
      "228  es divisible por 12\n",
      "240  es divisible por 12\n",
      "252  es divisible por 12\n",
      "264  es divisible por 12\n",
      "276  es divisible por 12\n",
      "288  es divisible por 12\n",
      "300  es divisible por 12\n"
     ]
    }
   ],
   "source": [
    "n = 99\n",
    "while(n <= 300):\n",
    "    n += 1\n",
    "    if (n % 12 != 0):\n",
    "        continue\n",
    "    print(n, ' es divisible por 12')"
   ]
  },
  {
   "cell_type": "markdown",
   "metadata": {},
   "source": [
    "14) Utilizar la función **input()** que permite hacer ingresos por teclado, para encontrar números primos y dar la opción al usario de buscar el siguiente"
   ]
  },
  {
   "cell_type": "code",
   "execution_count": 132,
   "metadata": {},
   "outputs": [
    {
     "name": "stdout",
     "output_type": "stream",
     "text": [
      "1\n",
      "¿Desea encontrar el siguiente número primo?\n",
      "2\n",
      "¿Desea encontrar el siguiente número primo?\n",
      "3\n",
      "¿Desea encontrar el siguiente número primo?\n",
      "Se finaliza el proceso\n"
     ]
    }
   ],
   "source": [
    "n = 1\n",
    "sigue = 1\n",
    "primo = True\n",
    "while (sigue == 1):\n",
    "    for div in range(2, n):\n",
    "        if (n % div == 0):\n",
    "            primo = False\n",
    "            break\n",
    "    if (primo):\n",
    "        print(n)\n",
    "        print('¿Desea encontrar el siguiente número primo?')\n",
    "        if (input() != '1'):\n",
    "            print('Se finaliza el proceso')\n",
    "            break\n",
    "    else:\n",
    "        primo = True\n",
    "    n += 1"
   ]
  },
  {
   "cell_type": "markdown",
   "metadata": {},
   "source": [
    "15) Crear un ciclo while que encuentre dentro del rango de 100 a 300 el primer número divisible por 3 y además múltiplo de 6"
   ]
  },
  {
   "cell_type": "code",
   "execution_count": 28,
   "metadata": {},
   "outputs": [
    {
     "name": "stdout",
     "output_type": "stream",
     "text": [
      "El número es:  102\n"
     ]
    }
   ],
   "source": [
    "n = 100\n",
    "while(n<=300):\n",
    "    if (n % 6 == 0):\n",
    "        print('El número es: ', str(n))\n",
    "        break\n",
    "    n += 1"
   ]
  },
  {
   "cell_type": "code",
   "execution_count": 50,
   "metadata": {},
   "outputs": [
    {
     "name": "stdout",
     "output_type": "stream",
     "text": [
      "102 es divisible por 3 y múltriplo de 6\n"
     ]
    }
   ],
   "source": [
    "\n",
    "n = 100\n",
    "while(n < 301):    \n",
    "    n = n + 1\n",
    "    if (n % 6 == 0 ):\n",
    "        print(str(n),\"es divisible por 3 y múltriplo de 6\")\n",
    "        break\n",
    "    \n"
   ]
  },
  {
   "cell_type": "code",
   "execution_count": 42,
   "metadata": {},
   "outputs": [
    {
     "data": {
      "text/plain": [
       "4"
      ]
     },
     "execution_count": 42,
     "metadata": {},
     "output_type": "execute_result"
    }
   ],
   "source": []
  }
 ],
 "metadata": {
  "kernelspec": {
   "display_name": "Python 3.11.0 64-bit",
   "language": "python",
   "name": "python3"
  },
  "language_info": {
   "codemirror_mode": {
    "name": "ipython",
    "version": 3
   },
   "file_extension": ".py",
   "mimetype": "text/x-python",
   "name": "python",
   "nbconvert_exporter": "python",
   "pygments_lexer": "ipython3",
   "version": "3.11.0"
  },
  "vscode": {
   "interpreter": {
    "hash": "44d17221d46c7a46e8a7a9f0d7c8ef78bb19f39bfba305b8bd07282139afb75c"
   }
  }
 },
 "nbformat": 4,
 "nbformat_minor": 4
}
